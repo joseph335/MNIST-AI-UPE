{
 "cells": [
  {
   "cell_type": "code",
   "execution_count": null,
   "id": "f0150082",
   "metadata": {},
   "outputs": [],
   "source": [
    "import numpy as np\n",
    "import sklearn as sk\n",
    "import matplotlib.pyplot as plt\n",
    "%matplotlib inline\n",
    "import keras \n",
    "from keras.api.models import Sequential\n",
    "from keras.api.layers import Dense, Dropout\n",
    "from sklearn.metrics import confusion_matrix\n",
    "import seaborn as sns\n",
    "from sklearn.metrics import classification_report\n",
    "import pandas as pd\n",
    "np.random.seed(69) #for funzies\n"
   ]
  },
  {
   "cell_type": "markdown",
   "id": "f3fa4f84",
   "metadata": {},
   "source": [
    "#Data"
   ]
  },
  {
   "cell_type": "code",
   "execution_count": null,
   "id": "02583c87",
   "metadata": {},
   "outputs": [],
   "source": [
    "from keras.api.datasets import mnist\n",
    "(x_train, y_train), (x_test, y_test) = mnist.load_data()"
   ]
  },
  {
   "cell_type": "code",
   "execution_count": null,
   "id": "db315e31",
   "metadata": {},
   "outputs": [],
   "source": [
    "print(x_train.shape, y_train.shape)\n",
    "print(x_test.shape, y_test.shape)"
   ]
  },
  {
   "cell_type": "markdown",
   "id": "650b78e3",
   "metadata": {},
   "source": [
    "# Visualizando Exemplos"
   ]
  },
  {
   "cell_type": "code",
   "execution_count": null,
   "id": "f012cefc",
   "metadata": {},
   "outputs": [],
   "source": [
    "num_classes = 10\n",
    "f, ax = plt.subplots(1, num_classes, figsize=(20,20))\n",
    "for i in range(0, num_classes):\n",
    "    sample = x_train[y_train==i][0]\n",
    "    ax[i].imshow(sample, cmap='gray')\n",
    "    ax[i].set_title(\"label: {}\".format(i), fontsize= 16)\n"
   ]
  },
  {
   "cell_type": "code",
   "execution_count": null,
   "id": "b271ddce",
   "metadata": {},
   "outputs": [],
   "source": [
    "#discretizando em classes numericas para que o modelo nao de numeros quebrados\n",
    "y_train = keras.utils.to_categorical(y_train, num_classes)\n",
    "y_test= keras.utils.to_categorical(y_test, num_classes)"
   ]
  },
  {
   "cell_type": "code",
   "execution_count": null,
   "id": "1d3f1beb",
   "metadata": {},
   "outputs": [],
   "source": [
    "for i in range(10):\n",
    "    print(y_train[i])"
   ]
  },
  {
   "cell_type": "markdown",
   "id": "8a7034b9",
   "metadata": {},
   "source": [
    "# Preparando Dados"
   ]
  },
  {
   "cell_type": "code",
   "execution_count": null,
   "id": "7390635e",
   "metadata": {},
   "outputs": [],
   "source": [
    "# Normalizacao\n",
    "x_train = x_train/255\n",
    "x_test = x_test/255"
   ]
  },
  {
   "cell_type": "code",
   "execution_count": null,
   "id": "146512ad",
   "metadata": {},
   "outputs": [],
   "source": [
    "#transformando dados em um vetor ao invez de matriz\n",
    "x_train = x_train.reshape(x_train.shape[0], -1)\n",
    "x_test = x_test.reshape(x_test.shape[0], -1)\n",
    "print(x_train.shape)"
   ]
  },
  {
   "cell_type": "markdown",
   "id": "c86158a9",
   "metadata": {},
   "source": [
    "# Criando a RNA "
   ]
  },
  {
   "cell_type": "code",
   "execution_count": null,
   "id": "e601ae0e",
   "metadata": {},
   "outputs": [],
   "source": [
    "model = Sequential()\n",
    "model.add(Dense(units=128, input_shape=(784,), activation='relu'))#camada de entrada\n",
    "model.add(Dense(units=128, activation='relu')) # Camada Intermediaria\n",
    "model.add(Dense(units=128, activation='relu')) # Camada Intermediaria\n",
    "model.add(Dense(units=128, activation='relu')) # Camada Intermediaria\n",
    "\n",
    "model.add(Dropout(0.45)) #Testar depois com diferentes intensidades\n",
    "model.add(Dense(units=10, activation='softmax')) # Camada de saida\n",
    "\n",
    "model.compile(loss='categorical_crossentropy', optimizer='adam', metrics=['accuracy'])\n",
    "model.summary()"
   ]
  },
  {
   "cell_type": "markdown",
   "id": "95834b93",
   "metadata": {},
   "source": [
    "# Treinando a Rede Neural "
   ]
  },
  {
   "cell_type": "code",
   "execution_count": null,
   "id": "9b11b10f",
   "metadata": {},
   "outputs": [],
   "source": [
    "batch_size = 128\n",
    "epochs = 120\n",
    "model.fit(x=x_train,y=y_train, batch_size=batch_size, epochs=epochs)"
   ]
  },
  {
   "cell_type": "code",
   "execution_count": null,
   "id": "9e7530b0",
   "metadata": {},
   "outputs": [],
   "source": []
  },
  {
   "cell_type": "markdown",
   "id": "5ad301ef",
   "metadata": {},
   "source": [
    "# Avaliacao"
   ]
  },
  {
   "cell_type": "code",
   "execution_count": null,
   "id": "d737657a",
   "metadata": {},
   "outputs": [],
   "source": [
    "test_loss, test_acc = model.evaluate(x_test, y_test)\n",
    "print(\"Test Loss: {}, Test accuracy: {}\".format(test_loss, test_acc))"
   ]
  },
  {
   "cell_type": "code",
   "execution_count": null,
   "id": "2fa8b75c",
   "metadata": {},
   "outputs": [],
   "source": [
    "# Adiciona ruído gaussiano\n",
    "noise_factor = 0.4\n",
    "x_test_noisy = x_test + noise_factor * np.random.normal(loc=0.0, scale=1.0, size=x_test.shape)\n",
    "x_test_noisy = np.clip(x_test_noisy, 0., 1.)"
   ]
  },
  {
   "cell_type": "code",
   "execution_count": null,
   "id": "0b58ff05",
   "metadata": {},
   "outputs": [],
   "source": [
    "test_loss, test_acc = model.evaluate(x_test_noisy, y_test)\n",
    "print(\"Test Loss: {}, Test accuracy: {}\".format(test_loss, test_acc))"
   ]
  },
  {
   "cell_type": "code",
   "execution_count": null,
   "id": "5b43ea06",
   "metadata": {},
   "outputs": [],
   "source": [
    "y_pred = model.predict(x_test)\n",
    "y_pred_classes = np.argmax(y_pred, axis=1)\n",
    "#print(y_pred)\n",
    "#print(y_pred_classes)"
   ]
  },
  {
   "cell_type": "code",
   "execution_count": null,
   "id": "fe98ebe7",
   "metadata": {},
   "outputs": [],
   "source": [
    "y_pred_noisy_probs = model.predict(x_test_noisy)\n",
    "y_pred_classes_noisy = np.argmax(y_pred_noisy_probs, axis=1)\n",
    "#print(y_pred)\n",
    "#print(y_pred_noisy_probs)"
   ]
  },
  {
   "cell_type": "code",
   "execution_count": null,
   "id": "1593e256",
   "metadata": {},
   "outputs": [],
   "source": [
    "random_x =  np.random.choice(len(x_test))\n",
    "x_sample = x_test[random_x]\n",
    "y_true = np.argmax(y_test, axis=1)\n",
    "y_sample_true = y_true[random_x]\n",
    "y_sample_pred_class = y_pred_classes[random_x]\n",
    "\n",
    "plt.title(\"predicted: {}, true: {}\".format(y_sample_pred_class, y_sample_true, fontsize=16))\n",
    "plt.imshow(x_sample.reshape(28,28), cmap = 'gray')"
   ]
  },
  {
   "cell_type": "code",
   "execution_count": null,
   "id": "96a74585",
   "metadata": {},
   "outputs": [],
   "source": [
    "\n",
    "\n",
    "\n",
    "# Seleciona N exemplos aleatorios\n",
    "num_examples = 15\n",
    "#indices = np.arange(num_examples)\n",
    "indices = np.random.choice(10000, size=num_examples, replace=False)\n",
    "# Previsões para essas imagens\n",
    "preds_clean = np.argmax(model.predict(x_test[indices]), axis=1)\n",
    "preds_noisy = np.argmax(model.predict(x_test_noisy[indices]), axis=1)\n",
    "true_labels = np.argmax(y_test[indices], axis=1)\n",
    "\n",
    "# Cria a figura\n",
    "plt.figure(figsize=(20, 4))\n",
    "\n",
    "for i, idx in enumerate(indices):\n",
    "    # Original\n",
    "    plt.subplot(2, num_examples, i + 1)\n",
    "    plt.imshow(x_test[idx].reshape(28, 28), cmap='gray')\n",
    "    plt.title(f\"Real: {true_labels[i]}\\nPred: {preds_clean[i]}\")\n",
    "    plt.axis('off')\n",
    "    \n",
    "    # Com ruído\n",
    "    plt.subplot(2, num_examples, i + 1 + num_examples)\n",
    "    plt.imshow(x_test_noisy[idx].reshape(28, 28), cmap='gray')\n",
    "    plt.title(f\"Noisy Pred: {preds_noisy[i]}\")\n",
    "    plt.axis('off')\n",
    "\n",
    "plt.suptitle(\"Linha 1: Imagens originais  |  Linha 2: Imagens com ruído\", fontsize=16)\n",
    "plt.tight_layout()\n",
    "plt.show()\n"
   ]
  },
  {
   "cell_type": "markdown",
   "id": "38be432c",
   "metadata": {},
   "source": []
  },
  {
   "cell_type": "markdown",
   "id": "76e81dc1",
   "metadata": {},
   "source": [
    "Metricas para avaliar, \n",
    "Acuracia, \n",
    "Perdas ,\n",
    "Especificidade,\n",
    "Classification Report SKlearn,\n"
   ]
  },
  {
   "cell_type": "markdown",
   "id": "3771625e",
   "metadata": {},
   "source": [
    "# Matriz de Confusao"
   ]
  },
  {
   "cell_type": "code",
   "execution_count": null,
   "id": "f54a1010",
   "metadata": {},
   "outputs": [],
   "source": [
    "confusion_matrix = sk.metrics.confusion_matrix(y_true, y_pred_classes)\n",
    "\n",
    "fig , ax = plt.subplots(figsize=(30,15))\n",
    "ax = sns.heatmap(confusion_matrix, annot=True, fmt='d', ax=ax, cmap=\"Blues\")\n",
    "ax.set_xlabel('predict')\n",
    "ax.set_ylabel('True')\n",
    "ax.set_title('Matriz De confusao');"
   ]
  },
  {
   "cell_type": "code",
   "execution_count": null,
   "id": "809eb167",
   "metadata": {},
   "outputs": [],
   "source": [
    "conf_matrix_noisy = sk.metrics.confusion_matrix(y_true, y_pred_classes_noisy)\n",
    "fig , ax = plt.subplots(figsize=(30,15))\n",
    "ax = sns.heatmap(conf_matrix_noisy, annot=True, fmt='d', ax=ax, cmap=\"Greens\")\n",
    "ax.set_xlabel('predict')\n",
    "ax.set_ylabel('True')\n",
    "ax.set_title('Matriz De confusao Com Ruido');"
   ]
  },
  {
   "cell_type": "code",
   "execution_count": null,
   "id": "40b53d38",
   "metadata": {},
   "outputs": [],
   "source": [
    "\n",
    "\n",
    "# Previsões sem ruído\n",
    "y_pred_probs = model.predict(x_test)\n",
    "y_pred = np.argmax(y_pred_probs, axis=1)\n",
    "y_true = np.argmax(y_test, axis=1)\n",
    "\n",
    "# Relatório como DataFrame\n",
    "report_dict = classification_report(y_true, y_pred, output_dict=True)\n",
    "df_report = pd.DataFrame(report_dict).transpose()\n",
    "df_report = df_report.drop(['accuracy'], errors='ignore')  # opcional\n",
    "\n",
    "# Heatmap\n",
    "plt.figure(figsize=(10, 6))\n",
    "sns.heatmap(df_report.iloc[:, :-1], annot=True, fmt=\".2f\", cmap=\"Blues\")\n",
    "plt.title(\"Classification Report - Sem Ruído\")\n",
    "plt.show()\n",
    "\n"
   ]
  },
  {
   "cell_type": "code",
   "execution_count": null,
   "id": "4d5e17ee",
   "metadata": {},
   "outputs": [],
   "source": [
    "\n",
    "# Previsões com ruído\n",
    "y_pred_noisy_probs = model.predict(x_test_noisy)\n",
    "y_pred_noisy = np.argmax(y_pred_noisy_probs, axis=1)\n",
    "\n",
    "# Relatório como DataFrame\n",
    "report_dict_noisy = classification_report(y_true, y_pred_noisy, output_dict=True)\n",
    "df_report_noisy = pd.DataFrame(report_dict_noisy).transpose()\n",
    "df_report_noisy = df_report_noisy.drop(['accuracy'], errors='ignore')\n",
    "\n",
    "# Heatmap\n",
    "plt.figure(figsize=(10, 6))\n",
    "sns.heatmap(df_report_noisy.iloc[:, :-1], annot=True, fmt=\".2f\", cmap=\"Greens\")\n",
    "plt.title(\"Classification Report - Com Ruído\")\n",
    "plt.show()\n"
   ]
  },
  {
   "cell_type": "markdown",
   "id": "925c384a",
   "metadata": {},
   "source": [
    "# Investigando os Erros (curiosidade)"
   ]
  },
  {
   "cell_type": "code",
   "execution_count": null,
   "id": "801f2eb3",
   "metadata": {},
   "outputs": [],
   "source": [
    "errors = (y_pred_classes - y_true != 0)\n",
    "y_pred_classes_errors = y_pred_classes[errors]\n",
    "y_pred_errors = y_pred[errors]\n",
    "y_pred_noisy_errors = y_pred_noisy[errors]\n",
    "x_test_noisy_errors = x_test_noisy[errors]\n",
    "y_true_errors = y_true[errors]\n",
    "x_test_errors = x_test[errors]"
   ]
  },
  {
   "cell_type": "code",
   "execution_count": null,
   "id": "f8b40b87",
   "metadata": {},
   "outputs": [],
   "source": [
    "y_pred_errors_probability = y_pred_errors  # Since y_pred_errors is 1D, this is already the max probability\n",
    "true_probability_errors = y_true_errors  # Directly use y_true_errors as the true probabilities\n",
    "diff_errors_pred_true = y_pred_errors_probability - true_probability_errors\n",
    "diff_errors_pred_Noisy_true = y_pred_noisy_errors - true_probability_errors\n",
    "\n",
    "# Get list of indices of sorted differences\n",
    "sorted_idx_diff_errors = np.argsort(diff_errors_pred_true)\n",
    "top_idx_diff_errors = sorted_idx_diff_errors[-15:]  # 15 last ones\n",
    "\n",
    "sorted_idx_diff_errors_noisy = np.argsort(diff_errors_pred_Noisy_true)\n",
    "top_idx_diff_errors_noisy = sorted_idx_diff_errors_noisy[-15:]  # 15 last ones\n",
    "\n",
    "\n"
   ]
  },
  {
   "cell_type": "code",
   "execution_count": null,
   "id": "06120ae2",
   "metadata": {},
   "outputs": [],
   "source": [
    "\n",
    "# Show Top Errors\n",
    "num = len(top_idx_diff_errors)\n",
    "f, ax = plt.subplots(1, num, figsize=(60,60))\n",
    "\n",
    "for i in range(0, num):\n",
    "  idx = top_idx_diff_errors[i]\n",
    "  sample = x_test_errors[idx].reshape(28,28)\n",
    "  y_t = y_true_errors[idx]\n",
    "  y_p = y_pred_classes_errors[idx]\n",
    "  ax[i].imshow(sample, cmap='gray')\n",
    "  ax[i].set_title(\"Predicted label :{}\\nTrue label: {}\".format(y_p, y_t), fontsize=22)"
   ]
  },
  {
   "cell_type": "code",
   "execution_count": null,
   "id": "b5653f89",
   "metadata": {},
   "outputs": [],
   "source": [
    "# Show Top Errors\n",
    "num = len(top_idx_diff_errors_noisy)\n",
    "f, ax = plt.subplots(1, num, figsize=(60,60))\n",
    "\n",
    "for i in range(0, num):\n",
    "  idx = top_idx_diff_errors_noisy[i]\n",
    "  sample = x_test_noisy_errors[idx].reshape(28,28)\n",
    "  y_t = y_true_errors[idx]\n",
    "  y_p = y_pred_noisy_errors[idx]\n",
    "  ax[i].imshow(sample, cmap='gray')\n",
    "  ax[i].set_title(\"Predicted label :{}\\nTrue label: {}\".format(y_p, y_t), fontsize=22)"
   ]
  }
 ],
 "metadata": {
  "kernelspec": {
   "display_name": "Python 3",
   "language": "python",
   "name": "python3"
  },
  "language_info": {
   "codemirror_mode": {
    "name": "ipython",
    "version": 3
   },
   "file_extension": ".py",
   "mimetype": "text/x-python",
   "name": "python",
   "nbconvert_exporter": "python",
   "pygments_lexer": "ipython3",
   "version": "3.11.1"
  }
 },
 "nbformat": 4,
 "nbformat_minor": 5
}
